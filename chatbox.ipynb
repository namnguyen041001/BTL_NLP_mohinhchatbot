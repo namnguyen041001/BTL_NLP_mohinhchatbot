{
 "cells": [
  {
   "cell_type": "code",
   "execution_count": null,
   "id": "c253c14c",
   "metadata": {},
   "outputs": [],
   "source": [
    "import random\n",
    "import json\n",
    "import pickle\n",
    "import numpy as np\n",
    "import nltk\n",
    "from nltk.stem import WordNetLemmatizer\n",
    "from tensorflow.keras.models import load_model"
   ]
  },
  {
   "cell_type": "code",
   "execution_count": 2,
   "id": "6df8d2c9",
   "metadata": {},
   "outputs": [],
   "source": [
    "lemmatizer = WordNetLemmatizer()"
   ]
  },
  {
   "cell_type": "code",
   "execution_count": 3,
   "id": "b1b20a51",
   "metadata": {},
   "outputs": [],
   "source": [
    "intents = json.loads(open('intents.json').read())\n",
    "words = pickle.load(open('words.pkl','rb'))\n",
    "classes =pickle.load(open('classes.pkl','rb'))\n",
    "model = load_model('chatbotmodel.h5')"
   ]
  },
  {
   "cell_type": "code",
   "execution_count": 4,
   "id": "afc9a95a",
   "metadata": {},
   "outputs": [],
   "source": [
    "def clean_up_sentence(sentence):\n",
    "    sentence_words = nltk.word_tokenize(sentence)\n",
    "    sentence_words = [lemmatizer.lemmatize(word) for word in sentence_words]\n",
    "    return sentence_words"
   ]
  },
  {
   "cell_type": "code",
   "execution_count": 5,
   "id": "0546d516",
   "metadata": {},
   "outputs": [],
   "source": [
    "def bag_of_words(sentence):\n",
    "    sentence_words = clean_up_sentence(sentence)\n",
    "    bag = [0]*len(words)\n",
    "    for w in sentence_words:\n",
    "        for i,word in enumerate(words):\n",
    "            if word ==w:\n",
    "                bag[i]=1\n",
    "    return np.array(bag)"
   ]
  },
  {
   "cell_type": "code",
   "execution_count": 6,
   "id": "56562ba0",
   "metadata": {},
   "outputs": [],
   "source": [
    "def predict_class(sentence):\n",
    "    bow = bag_of_words(sentence)\n",
    "    res = model.predict(np.array([bow]))[0]\n",
    "    ERROR_THRESHOLD =0.25\n",
    "    results = [[i,r] for i,r in enumerate(res) if r> ERROR_THRESHOLD]\n",
    "    results.sort(key=lambda x:x[1], reverse = True)\n",
    "    return_list = []\n",
    "    for r in results:\n",
    "        return_list.append({'intent':classes[r[0]],'probability':str(r[1])})\n",
    "    return return_list"
   ]
  },
  {
   "cell_type": "code",
   "execution_count": null,
   "id": "499d696f",
   "metadata": {
    "scrolled": true
   },
   "outputs": [
    {
     "name": "stdout",
     "output_type": "stream",
     "text": [
      "hi\n",
      "1/1 [==============================] - 0s 225ms/step\n",
      "xin chao,rat vui duoc gap lai ban\n",
      "Hi\n",
      "1/1 [==============================] - 0s 31ms/step\n",
      "Hello!\n",
      "He so lo\n",
      "1/1 [==============================] - 0s 46ms/step\n",
      "xin chao,rat vui duoc gap lai ban\n",
      "Bai\n",
      "1/1 [==============================] - 0s 59ms/step\n",
      "xin chao,rat vui duoc gap lai ban\n",
      "bye\n",
      "1/1 [==============================] - 0s 48ms/step\n",
      "Talk to you later\n",
      "bye\n",
      "1/1 [==============================] - 0s 47ms/step\n",
      "buon qua,hen gap lai ban nhe \n",
      "cya\n",
      "1/1 [==============================] - 0s 62ms/step\n",
      "Goodbye!\n",
      "tuoi\n",
      "1/1 [==============================] - 0s 74ms/step\n",
      "hai muoi mot tuoi\n",
      "ban ten gi?\n",
      "1/1 [==============================] - 0s 44ms/step\n",
      "You can call me Luc.\n",
      "something\n",
      "1/1 [==============================] - 0s 31ms/step\n",
      "We sell chocolate chip cookies for $2!\n",
      "truong\n",
      "1/1 [==============================] - 0s 27ms/step\n",
      "Truong DHSPKT TPHCM\n",
      "ten truong\n",
      "1/1 [==============================] - 0s 47ms/step\n",
      "HCMUTE\n",
      "help\n",
      "1/1 [==============================] - 0s 50ms/step\n",
      "toi co the giup gi cho ban\n",
      "fc\n",
      "1/1 [==============================] - 0s 36ms/step\n",
      "Hello!\n",
      "dzfzg\n",
      "1/1 [==============================] - 0s 51ms/step\n",
      "Hello!\n",
      "f cgfcjcj\n",
      "1/1 [==============================] - 0s 53ms/step\n",
      "xin chao,rat vui duoc gap lai ban\n"
     ]
    }
   ],
   "source": [
    "def get_response(intents_list,intents_json):\n",
    "    tag=intents_list[0]['intent']\n",
    "    list_of_intents = intents_json['intents']\n",
    "    for i in list_of_intents:\n",
    "        if i['tag']==tag:\n",
    "            result = random.choice(i['responses'])\n",
    "            break\n",
    "    return result\n",
    "while True:\n",
    "    message = input(\"\")\n",
    "    ints = predict_class(message)\n",
    "    res = get_response(ints,intents)\n",
    "    print(res)"
   ]
  },
  {
   "cell_type": "code",
   "execution_count": null,
   "id": "bc3eec0b",
   "metadata": {},
   "outputs": [],
   "source": []
  },
  {
   "cell_type": "code",
   "execution_count": null,
   "id": "c3aa75c9",
   "metadata": {},
   "outputs": [],
   "source": []
  },
  {
   "cell_type": "code",
   "execution_count": null,
   "id": "bf027896",
   "metadata": {},
   "outputs": [],
   "source": []
  },
  {
   "cell_type": "code",
   "execution_count": null,
   "id": "cdc2eb72",
   "metadata": {},
   "outputs": [],
   "source": []
  },
  {
   "cell_type": "code",
   "execution_count": null,
   "id": "d3a9ce58",
   "metadata": {},
   "outputs": [],
   "source": []
  }
 ],
 "metadata": {
  "kernelspec": {
   "display_name": "Python 3 (ipykernel)",
   "language": "python",
   "name": "python3"
  },
  "language_info": {
   "codemirror_mode": {
    "name": "ipython",
    "version": 3
   },
   "file_extension": ".py",
   "mimetype": "text/x-python",
   "name": "python",
   "nbconvert_exporter": "python",
   "pygments_lexer": "ipython3",
   "version": "3.8.15"
  }
 },
 "nbformat": 4,
 "nbformat_minor": 5
}
